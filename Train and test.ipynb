{
 "cells": [
  {
   "cell_type": "code",
   "execution_count": 1,
   "id": "endless-papua",
   "metadata": {},
   "outputs": [],
   "source": [
    "import os\n",
    "import numpy as np\n",
    "import pandas as pd\n",
    "from random import sample\n",
    "import statistics as stats\n",
    "from sklearn.svm import SVC\n",
    "import matplotlib.pyplot as plt\n",
    "from sklearn import preprocessing\n",
    "from sklearn.metrics import confusion_matrix\n",
    "from sklearn.model_selection import GridSearchCV\n",
    "from sklearn.metrics import classification_report\n",
    "from sklearn.model_selection import train_test_split\n",
    "from sklearn.model_selection import RandomizedSearchCV"
   ]
  },
  {
   "cell_type": "code",
   "execution_count": 64,
   "id": "further-boutique",
   "metadata": {},
   "outputs": [
    {
     "name": "stdout",
     "output_type": "stream",
     "text": [
      "The data dimension is: (25890, 16)\n"
     ]
    }
   ],
   "source": [
    "df= pd.read_csv('features.csv')\n",
    "print('The data dimension is:',df.shape)"
   ]
  },
  {
   "cell_type": "code",
   "execution_count": 65,
   "id": "sticky-cincinnati",
   "metadata": {},
   "outputs": [
    {
     "data": {
      "text/html": [
       "<div>\n",
       "<style scoped>\n",
       "    .dataframe tbody tr th:only-of-type {\n",
       "        vertical-align: middle;\n",
       "    }\n",
       "\n",
       "    .dataframe tbody tr th {\n",
       "        vertical-align: top;\n",
       "    }\n",
       "\n",
       "    .dataframe thead th {\n",
       "        text-align: right;\n",
       "    }\n",
       "</style>\n",
       "<table border=\"1\" class=\"dataframe\">\n",
       "  <thead>\n",
       "    <tr style=\"text-align: right;\">\n",
       "      <th></th>\n",
       "      <th>Min_hr</th>\n",
       "      <th>Max_hr</th>\n",
       "      <th>Mean_hr</th>\n",
       "      <th>Men_acc_sqrt</th>\n",
       "      <th>Min_acc_x</th>\n",
       "      <th>Max_acc_x</th>\n",
       "      <th>Mean_acc_x</th>\n",
       "      <th>Min_acc_y</th>\n",
       "      <th>Max_acc_y</th>\n",
       "      <th>Mean_acc_y</th>\n",
       "      <th>Min_acc_z</th>\n",
       "      <th>Max_acc_z</th>\n",
       "      <th>Mean_acc_z</th>\n",
       "      <th>Binary label</th>\n",
       "      <th>Multiple label</th>\n",
       "      <th>ID</th>\n",
       "    </tr>\n",
       "  </thead>\n",
       "  <tbody>\n",
       "    <tr>\n",
       "      <th>7702</th>\n",
       "      <td>54.0</td>\n",
       "      <td>57.0</td>\n",
       "      <td>54.86</td>\n",
       "      <td>1.00</td>\n",
       "      <td>-0.28</td>\n",
       "      <td>-0.27</td>\n",
       "      <td>-0.27</td>\n",
       "      <td>0.90</td>\n",
       "      <td>0.91</td>\n",
       "      <td>0.91</td>\n",
       "      <td>-0.33</td>\n",
       "      <td>-0.32</td>\n",
       "      <td>-0.32</td>\n",
       "      <td>0.0</td>\n",
       "      <td>5.0</td>\n",
       "      <td>8.0</td>\n",
       "    </tr>\n",
       "    <tr>\n",
       "      <th>11071</th>\n",
       "      <td>84.0</td>\n",
       "      <td>86.0</td>\n",
       "      <td>85.20</td>\n",
       "      <td>0.99</td>\n",
       "      <td>-0.25</td>\n",
       "      <td>-0.24</td>\n",
       "      <td>-0.24</td>\n",
       "      <td>-0.28</td>\n",
       "      <td>-0.26</td>\n",
       "      <td>-0.27</td>\n",
       "      <td>-0.93</td>\n",
       "      <td>-0.92</td>\n",
       "      <td>-0.92</td>\n",
       "      <td>1.0</td>\n",
       "      <td>3.0</td>\n",
       "      <td>13.0</td>\n",
       "    </tr>\n",
       "    <tr>\n",
       "      <th>10353</th>\n",
       "      <td>82.0</td>\n",
       "      <td>87.0</td>\n",
       "      <td>84.33</td>\n",
       "      <td>1.00</td>\n",
       "      <td>-0.27</td>\n",
       "      <td>-0.26</td>\n",
       "      <td>-0.26</td>\n",
       "      <td>-0.22</td>\n",
       "      <td>-0.21</td>\n",
       "      <td>-0.22</td>\n",
       "      <td>0.93</td>\n",
       "      <td>0.94</td>\n",
       "      <td>0.94</td>\n",
       "      <td>1.0</td>\n",
       "      <td>2.0</td>\n",
       "      <td>12.0</td>\n",
       "    </tr>\n",
       "    <tr>\n",
       "      <th>20251</th>\n",
       "      <td>61.0</td>\n",
       "      <td>68.0</td>\n",
       "      <td>62.60</td>\n",
       "      <td>1.00</td>\n",
       "      <td>-0.35</td>\n",
       "      <td>-0.34</td>\n",
       "      <td>-0.35</td>\n",
       "      <td>0.10</td>\n",
       "      <td>0.10</td>\n",
       "      <td>0.10</td>\n",
       "      <td>0.93</td>\n",
       "      <td>0.93</td>\n",
       "      <td>0.93</td>\n",
       "      <td>1.0</td>\n",
       "      <td>2.0</td>\n",
       "      <td>24.0</td>\n",
       "    </tr>\n",
       "    <tr>\n",
       "      <th>13906</th>\n",
       "      <td>56.0</td>\n",
       "      <td>58.0</td>\n",
       "      <td>57.33</td>\n",
       "      <td>1.00</td>\n",
       "      <td>-0.53</td>\n",
       "      <td>-0.52</td>\n",
       "      <td>-0.53</td>\n",
       "      <td>-0.07</td>\n",
       "      <td>-0.06</td>\n",
       "      <td>-0.06</td>\n",
       "      <td>0.85</td>\n",
       "      <td>0.86</td>\n",
       "      <td>0.85</td>\n",
       "      <td>1.0</td>\n",
       "      <td>2.0</td>\n",
       "      <td>16.0</td>\n",
       "    </tr>\n",
       "  </tbody>\n",
       "</table>\n",
       "</div>"
      ],
      "text/plain": [
       "       Min_hr  Max_hr  Mean_hr  Men_acc_sqrt  Min_acc_x  Max_acc_x  \\\n",
       "7702     54.0    57.0    54.86          1.00      -0.28      -0.27   \n",
       "11071    84.0    86.0    85.20          0.99      -0.25      -0.24   \n",
       "10353    82.0    87.0    84.33          1.00      -0.27      -0.26   \n",
       "20251    61.0    68.0    62.60          1.00      -0.35      -0.34   \n",
       "13906    56.0    58.0    57.33          1.00      -0.53      -0.52   \n",
       "\n",
       "       Mean_acc_x  Min_acc_y  Max_acc_y  Mean_acc_y  Min_acc_z  Max_acc_z  \\\n",
       "7702        -0.27       0.90       0.91        0.91      -0.33      -0.32   \n",
       "11071       -0.24      -0.28      -0.26       -0.27      -0.93      -0.92   \n",
       "10353       -0.26      -0.22      -0.21       -0.22       0.93       0.94   \n",
       "20251       -0.35       0.10       0.10        0.10       0.93       0.93   \n",
       "13906       -0.53      -0.07      -0.06       -0.06       0.85       0.86   \n",
       "\n",
       "       Mean_acc_z  Binary label  Multiple label    ID  \n",
       "7702        -0.32           0.0             5.0   8.0  \n",
       "11071       -0.92           1.0             3.0  13.0  \n",
       "10353        0.94           1.0             2.0  12.0  \n",
       "20251        0.93           1.0             2.0  24.0  \n",
       "13906        0.85           1.0             2.0  16.0  "
      ]
     },
     "execution_count": 65,
     "metadata": {},
     "output_type": "execute_result"
    }
   ],
   "source": [
    "df.sample(5)"
   ]
  },
  {
   "cell_type": "code",
   "execution_count": null,
   "id": "british-compact",
   "metadata": {},
   "outputs": [],
   "source": []
  },
  {
   "cell_type": "code",
   "execution_count": null,
   "id": "unsigned-electricity",
   "metadata": {},
   "outputs": [],
   "source": []
  },
  {
   "cell_type": "code",
   "execution_count": 66,
   "id": "raised-deposit",
   "metadata": {},
   "outputs": [
    {
     "data": {
      "image/png": "[encoded data removed]",
      "text/plain": [
       "<Figure size 360x288 with 1 Axes>"
      ]
     },
     "metadata": {
      "needs_background": "light"
     },
     "output_type": "display_data"
    }
   ],
   "source": [
    "#Binary label\n",
    "plt.figure(figsize=(5, 4))\n",
    "plt.title('Binary label distribution (NOT balanced)')\n",
    "plt.xlabel(\"Sleep label\")\n",
    "plt.xticks([0,1])\n",
    "plt.ylabel(\"Number\")\n",
    "plt.hist(df['Binary label'])\n",
    "plt.savefig('Image/Binary_NOT.png')\n",
    "plt.show()"
   ]
  },
  {
   "cell_type": "code",
   "execution_count": 67,
   "id": "dressed-keyboard",
   "metadata": {},
   "outputs": [],
   "source": [
    "labels_bin=df['Binary label'] # 0 (0,-1,5) and 1 (1,2,3,4)\n",
    "\n",
    "lab_0_bin = []\n",
    "idx_0_bin = []\n",
    "list_idx_0_bin = []\n",
    "\n",
    "for l in labels_bin:\n",
    "    if l==0:\n",
    "        idx_0_bin.append(True)\n",
    "    else:\n",
    "        idx_0_bin.append(False)\n",
    "list_idx_0_bin.append(df[idx_0_bin])\n",
    "lab_1_bin = []\n",
    "idx_1_bin = []\n",
    "list_idx_1_bin = []\n",
    "\n",
    "for l in labels_bin:\n",
    "    if l==1:\n",
    "        idx_1_bin.append(True)\n",
    "    else:\n",
    "        idx_1_bin.append(False)\n",
    "list_idx_1_bin.append(df[idx_1_bin])\n",
    "\n",
    "df0_bin = pd.DataFrame()  \n",
    "for i in range(len(list_idx_0_bin)):\n",
    "    df0_bin=df0_bin.append(list_idx_0_bin[i])\n",
    "df1_bin = pd.DataFrame()  \n",
    "for i in range(len(list_idx_1_bin)):\n",
    "    df1_bin=df1_bin.append(list_idx_1_bin[i])"
   ]
  },
  {
   "cell_type": "code",
   "execution_count": 68,
   "id": "broken-browser",
   "metadata": {},
   "outputs": [
    {
     "data": {
      "image/png": "[encoded data removed]",
      "text/plain": [
       "<Figure size 360x288 with 1 Axes>"
      ]
     },
     "metadata": {
      "needs_background": "light"
     },
     "output_type": "display_data"
    }
   ],
   "source": [
    "#Multiple label\n",
    "plt.figure(figsize=(5, 4))\n",
    "plt.title('Multiple label distribution (NOT balanced)')\n",
    "plt.xlabel(\"Sleep label\")\n",
    "plt.xticks([0,1,2,3,5])\n",
    "plt.ylabel(\"Number\")\n",
    "plt.hist(df['Multiple label'])\n",
    "plt.savefig('Image/Multiple_NOT.png')\n",
    "plt.show()"
   ]
  },
  {
   "cell_type": "code",
   "execution_count": 69,
   "id": "filled-representative",
   "metadata": {},
   "outputs": [],
   "source": [
    "labels_multi=df['Multiple label'] #0 (-1,0), 1, 2, 3 (3,4), 5\n",
    "\n",
    "lab_0_multi = []\n",
    "idx_0_multi = []\n",
    "list_idx_0_multi = []\n",
    "\n",
    "for l in labels_multi:\n",
    "    if l==0:\n",
    "        idx_0_multi.append(True)\n",
    "    else:\n",
    "        idx_0_multi.append(False)\n",
    "list_idx_0_multi.append(df[idx_0_multi])\n",
    "lab_1_multi = []\n",
    "idx_1_multi = []\n",
    "list_idx_1_multi = []\n",
    "\n",
    "for l in labels_multi:\n",
    "    if l==1:\n",
    "        idx_1_multi.append(True)\n",
    "    else:\n",
    "        idx_1_multi.append(False)\n",
    "list_idx_1_multi.append(df[idx_1_multi])\n",
    "lab_2_multi = []\n",
    "idx_2_multi = []\n",
    "list_idx_2_multi = []\n",
    "\n",
    "for l in labels_multi:\n",
    "    if l==2:\n",
    "        idx_2_multi.append(True)\n",
    "    else:\n",
    "        idx_2_multi.append(False)\n",
    "list_idx_2_multi.append(df[idx_2_multi])\n",
    "lab_3_multi = []\n",
    "idx_3_multi = []\n",
    "list_idx_3_multi = []\n",
    "\n",
    "for l in labels_multi:\n",
    "    if l==3:\n",
    "        idx_3_multi.append(True)\n",
    "    else:\n",
    "        idx_3_multi.append(False)\n",
    "list_idx_3_multi.append(df[idx_3_multi])\n",
    "lab_5_multi = []\n",
    "idx_5_multi = []\n",
    "list_idx_5_multi = []\n",
    "\n",
    "for l in labels_multi:\n",
    "    if l==5:\n",
    "        idx_5_multi.append(True)\n",
    "    else:\n",
    "        idx_5_multi.append(False)\n",
    "list_idx_5_multi.append(df[idx_5_multi])\n",
    "\n",
    "\n",
    "df0_multi = pd.DataFrame()  \n",
    "for i in range(len(list_idx_0_multi)):\n",
    "    df0_multi=df0_multi.append(list_idx_0_multi[i])\n",
    "df1_multi = pd.DataFrame()  \n",
    "for i in range(len(list_idx_1_multi)):\n",
    "    df1_multi=df1_multi.append(list_idx_1_multi[i])\n",
    "df2_multi = pd.DataFrame()  \n",
    "for i in range(len(list_idx_2_multi)):\n",
    "    df2_multi=df2_multi.append(list_idx_2_multi[i])\n",
    "df3_multi = pd.DataFrame()  \n",
    "for i in range(len(list_idx_3_multi)):\n",
    "    df3_multi=df3_multi.append(list_idx_3_multi[i])\n",
    "df5_multi = pd.DataFrame()  \n",
    "for i in range(len(list_idx_5_multi)):\n",
    "    df5_multi=df5_multi.append(list_idx_5_multi[i])"
   ]
  },
  {
   "cell_type": "code",
   "execution_count": 70,
   "id": "friendly-catalyst",
   "metadata": {},
   "outputs": [
    {
     "name": "stdout",
     "output_type": "stream",
     "text": [
      "\n",
      " Binary: [8098, 17792] \n",
      " Multiple: [2554, 1761, 12486, 3545, 5544] \n",
      " Minimum: 1761 \n",
      "\n"
     ]
    }
   ],
   "source": [
    "n_lab_binarias=[df0_bin['Binary label'].value_counts()[0],df1_bin['Binary label'].value_counts()[1]]\n",
    "n_lab_multiclase=[df0_multi['Multiple label'].value_counts()[0],df1_multi['Multiple label'].value_counts()[1],\n",
    "      df2_multi['Multiple label'].value_counts()[2],df3_multi['Multiple label'].value_counts()[3],\n",
    "      df5_multi['Multiple label'].value_counts()[5]]\n",
    "n_lab=min([min(n_lab_binarias),min(n_lab_multiclase)])\n",
    "print('\\n','Binary:',n_lab_binarias,'\\n','Multiple:',n_lab_multiclase,'\\n','Minimum:',n_lab,'\\n')"
   ]
  },
  {
   "cell_type": "markdown",
   "id": "operating-kingdom",
   "metadata": {},
   "source": [
    "We created two different data frames: one with balanced multi-type label data (df_multi_balanced), and the other with balanced binary label data (df_bin_balanced). All classes (binary and multi-class) have been balanced to the minimum number of tags for both types."
   ]
  },
  {
   "cell_type": "code",
   "execution_count": 71,
   "id": "invalid-penguin",
   "metadata": {},
   "outputs": [
    {
     "name": "stdout",
     "output_type": "stream",
     "text": [
      "The data dimension(Binary) is: (1200, 16)\n",
      "The data dimension(Multiple) is: (1000, 16)\n"
     ]
    }
   ],
   "source": [
    "n_lab_bin=600 # limit the number of samples per category\n",
    "df_bin_balanced = pd.DataFrame()\n",
    "df_bin_balanced=df_bin_balanced.append(df0_bin.sample(n_lab_bin)).append(df1_bin.sample(n_lab_bin))\n",
    "print('The data dimension(Binary) is:',df_bin_balanced.shape)\n",
    "\n",
    "n_lab_multi=200\n",
    "df_multi_balanced = pd.DataFrame()\n",
    "df_multi_balanced=df_multi_balanced.append(df0_multi.sample(n_lab_multi)).append(df1_multi.sample(n_lab_multi)).append(df2_multi.sample(n_lab_multi)).append(df3_multi.sample(n_lab_multi)).append(df5_multi.sample(n_lab_multi))\n",
    "print('The data dimension(Multiple) is:',df_multi_balanced.shape)"
   ]
  },
  {
   "cell_type": "code",
   "execution_count": 72,
   "id": "material-fitting",
   "metadata": {},
   "outputs": [
    {
     "name": "stdout",
     "output_type": "stream",
     "text": [
      "\u001b[1;30mBinary label\u001b[0m\n",
      "Number of different values for binary labels: 2 \n",
      "\n",
      "Number of times each binary label value is taken:\n",
      "0.0    600\n",
      "1.0    600\n",
      "Name: Binary label, dtype: int64 \n",
      "\n"
     ]
    },
    {
     "data": {
      "image/png": "[encoded data removed]",
      "text/plain": [
       "<Figure size 360x288 with 1 Axes>"
      ]
     },
     "metadata": {
      "needs_background": "light"
     },
     "output_type": "display_data"
    },
    {
     "name": "stdout",
     "output_type": "stream",
     "text": [
      "\u001b[1;30mMultiple label\u001b[0m\n",
      "Number of different values for multiple labels: 5 \n",
      "\n",
      "Number of times each multiple label value is taken:\n",
      "0.0    200\n",
      "3.0    200\n",
      "2.0    200\n",
      "5.0    200\n",
      "1.0    200\n",
      "Name: Multiple label, dtype: int64 \n",
      "\n"
     ]
    },
    {
     "data": {
      "image/png": "[encoded data removed]",
      "text/plain": [
       "<Figure size 360x288 with 1 Axes>"
      ]
     },
     "metadata": {
      "needs_background": "light"
     },
     "output_type": "display_data"
    }
   ],
   "source": [
    "print('\\x1b[1;30m'+'Binary label'+'\\x1b[0m')\n",
    "print('Number of different values for binary labels:',df_bin_balanced['Binary label'].nunique(),'\\n')\n",
    "print('Number of times each binary label value is taken:')\n",
    "print(df_bin_balanced['Binary label'].value_counts(),'\\n')\n",
    "plt.figure(figsize=(5, 4))\n",
    "plt.title('Balanced distribution of binary labels')\n",
    "plt.xlabel(\"Sleep label\")\n",
    "plt.ylabel(\"Number\")\n",
    "plt.xticks([0,1])\n",
    "plt.hist(df_bin_balanced['Binary label'])\n",
    "plt.savefig('Image/Binary.png')\n",
    "plt.show()\n",
    "\n",
    "print('\\x1b[1;30m'+'Multiple label'+'\\x1b[0m')\n",
    "print('Number of different values for multiple labels:',df_multi_balanced['Multiple label'].nunique(),'\\n')\n",
    "print('Number of times each multiple label value is taken:')\n",
    "print(df_multi_balanced['Multiple label'].value_counts(),'\\n')\n",
    "plt.figure(figsize=(5, 4))\n",
    "plt.title('Balanced distribution of multiple labels')\n",
    "plt.xlabel(\"Sleep label\")\n",
    "plt.ylabel(\"Number\")\n",
    "plt.xticks([-1,0,1,2,3,5])\n",
    "plt.hist(df_multi_balanced['Multiple label'])\n",
    "plt.savefig('Image/Multiple.png')\n",
    "plt.show()"
   ]
  },
  {
   "cell_type": "code",
   "execution_count": 73,
   "id": "numeric-hundred",
   "metadata": {},
   "outputs": [
    {
     "name": "stdout",
     "output_type": "stream",
     "text": [
      "The percentage of data available after balancing the binary labels is: 4.63 %\n",
      "The percentage of data available after balancing the multiple labels is: 3.86 %\n"
     ]
    }
   ],
   "source": [
    "print('The percentage of data available after balancing the binary labels is:',\"{0:.2f}\".format((df_bin_balanced.shape[0]*100)/df.shape[0]),'%')\n",
    "print('The percentage of data available after balancing the multiple labels is:',\"{0:.2f}\".format((df_multi_balanced.shape[0]*100)/df.shape[0]),'%')"
   ]
  },
  {
   "cell_type": "code",
   "execution_count": null,
   "id": "wicked-canyon",
   "metadata": {},
   "outputs": [],
   "source": []
  },
  {
   "cell_type": "code",
   "execution_count": null,
   "id": "chubby-novel",
   "metadata": {},
   "outputs": [],
   "source": []
  },
  {
   "cell_type": "code",
   "execution_count": null,
   "id": "leading-ecology",
   "metadata": {},
   "outputs": [],
   "source": []
  },
  {
   "cell_type": "code",
   "execution_count": 74,
   "id": "loose-testimony",
   "metadata": {},
   "outputs": [
    {
     "name": "stdout",
     "output_type": "stream",
     "text": [
      "24 train subjects: [17, 2, 8, 0, 9, 26, 14, 15, 21, 29, 27, 6, 18, 12, 13, 28, 25, 22, 7, 30, 24, 1, 3, 11]\n",
      "7 test subjects: [4, 5, 10, 16, 19, 20, 23]\n"
     ]
    }
   ],
   "source": [
    "#Train and Test subsets\n",
    "lista = list(range(31)) # List of 31 numbers\n",
    "sub_train = sample(lista,k=24) # 24 train subjects\n",
    "sub_test = [el for el in lista if el not in sub_train] #7 for test\n",
    "\n",
    "print(len(sub_train),'train subjects:',sub_train)\n",
    "print(len(sub_test),'test subjects:',sub_test)"
   ]
  },
  {
   "cell_type": "code",
   "execution_count": 75,
   "id": "lonely-breathing",
   "metadata": {},
   "outputs": [],
   "source": [
    "#Binary label\n",
    "train_matr = []\n",
    "test_matr = []\n",
    "id = df_bin_balanced['ID']\n",
    "\n",
    "for i in sub_train:    \n",
    "    idx = []\n",
    "    for s in id:\n",
    "        if s==i:\n",
    "            idx.append(True)\n",
    "        else:\n",
    "            idx.append(False)\n",
    "    train_matr.append(df_bin_balanced[idx])\n",
    "\n",
    "for i in sub_test:    \n",
    "    idx = []\n",
    "    for s in id:\n",
    "        if s==i:\n",
    "            idx.append(True)\n",
    "        else:\n",
    "            idx.append(False)\n",
    "    test_matr.append(df_bin_balanced[idx])"
   ]
  },
  {
   "cell_type": "code",
   "execution_count": 76,
   "id": "humanitarian-activity",
   "metadata": {},
   "outputs": [],
   "source": [
    "Train_bin_balanced = pd.DataFrame()\n",
    "for i in range(len(train_matr)):\n",
    "    Train_bin_balanced=Train_bin_balanced.append(train_matr[i])\n",
    "\n",
    "Test_bin_balanced = pd.DataFrame()  \n",
    "for i in range(len(test_matr)):\n",
    "    Test_bin_balanced=Test_bin_balanced.append(test_matr[i])"
   ]
  },
  {
   "cell_type": "code",
   "execution_count": 77,
   "id": "emerging-plant",
   "metadata": {},
   "outputs": [],
   "source": [
    "Train_bin_balanced.to_csv('Train_binary.csv', header=True, index=False)\n",
    "Test_bin_balanced.to_csv('Test_binary.csv', header=True, index=False)"
   ]
  },
  {
   "cell_type": "code",
   "execution_count": 78,
   "id": "genuine-daily",
   "metadata": {},
   "outputs": [],
   "source": [
    "#Multiple label\n",
    "train_matr = []\n",
    "test_matr = []\n",
    "id = df_multi_balanced['ID']\n",
    "\n",
    "for i in sub_train:    \n",
    "    idx = []\n",
    "    for s in id:\n",
    "        if s==i:\n",
    "            idx.append(True)\n",
    "        else:\n",
    "            idx.append(False)\n",
    "    train_matr.append(df_multi_balanced[idx])\n",
    "\n",
    "for i in sub_test:    \n",
    "    idx = []\n",
    "    for s in id:\n",
    "        if s==i:\n",
    "            idx.append(True)\n",
    "        else:\n",
    "            idx.append(False)\n",
    "    test_matr.append(df_multi_balanced[idx])"
   ]
  },
  {
   "cell_type": "code",
   "execution_count": 79,
   "id": "improving-simpson",
   "metadata": {},
   "outputs": [],
   "source": [
    "Train_multi_balanced = pd.DataFrame()\n",
    "for i in range(len(train_matr)):\n",
    "    Train_multi_balanced=Train_multi_balanced.append(train_matr[i])\n",
    "\n",
    "Test_multi_balanced = pd.DataFrame()  \n",
    "for i in range(len(test_matr)):\n",
    "    Test_multi_balanced=Test_multi_balanced.append(test_matr[i])"
   ]
  },
  {
   "cell_type": "code",
   "execution_count": 80,
   "id": "nuclear-collar",
   "metadata": {},
   "outputs": [],
   "source": [
    "Train_multi_balanced.to_csv('Train_multiclass.csv', header=True, index=False)\n",
    "Test_multi_balanced.to_csv('Test_multiclass.csv', header=True, index=False)"
   ]
  },
  {
   "cell_type": "code",
   "execution_count": null,
   "id": "numerical-yacht",
   "metadata": {},
   "outputs": [],
   "source": []
  },
  {
   "cell_type": "code",
   "execution_count": null,
   "id": "closed-superior",
   "metadata": {},
   "outputs": [],
   "source": []
  },
  {
   "cell_type": "code",
   "execution_count": null,
   "id": "unauthorized-income",
   "metadata": {},
   "outputs": [],
   "source": []
  },
  {
   "cell_type": "code",
   "execution_count": 81,
   "id": "ideal-observer",
   "metadata": {},
   "outputs": [],
   "source": [
    "#Data normalization\n",
    "#Binary label\n",
    "Train_tt_bin_balanced=Train_bin_balanced.copy()\n",
    "Test_tt_bin_balanced=Test_bin_balanced.copy()"
   ]
  },
  {
   "cell_type": "code",
   "execution_count": 82,
   "id": "quantitative-adjustment",
   "metadata": {},
   "outputs": [],
   "source": [
    "X_train=Train_tt_bin_balanced.drop(['Binary label','Multiple label','ID'], axis = 1) \n",
    "columns_name=list(X_train.columns)\n",
    "scaler = preprocessing.StandardScaler().fit(X_train)\n",
    "X_train_transformed = scaler.transform(X_train)\n",
    "Train_bin_transformed=pd.DataFrame(X_train_transformed, columns=columns_name)\n",
    "Train_bin_transformed['Multiple label'], Train_bin_transformed['Binary label'], Train_bin_transformed['ID'] = [Train_bin_balanced['Multiple label'].values, Train_bin_balanced['Binary label'].values, Train_bin_balanced['ID'].values]\n",
    "\n",
    "X_test=Test_tt_bin_balanced.drop(['Binary label','Multiple label','ID'], axis = 1) \n",
    "scaler = preprocessing.StandardScaler().fit(X_train)\n",
    "X_test_transformed = scaler.transform(X_test)\n",
    "Test_bin_transformed=pd.DataFrame(X_test_transformed, columns=columns_name)\n",
    "Test_bin_transformed['Multiple label'], Test_bin_transformed['Binary label'], Test_bin_transformed['ID'] = [Test_bin_balanced['Multiple label'].values, Test_bin_balanced['Binary label'].values, Test_bin_balanced['ID'].values]"
   ]
  },
  {
   "cell_type": "code",
   "execution_count": 83,
   "id": "decreased-colombia",
   "metadata": {},
   "outputs": [],
   "source": [
    "Train_bin_transformed.to_csv('Train_binary_transformed.csv', header=True, index=False)\n",
    "Test_bin_transformed.to_csv('Test_binary_transformed.csv', header=True, index=False)"
   ]
  },
  {
   "cell_type": "code",
   "execution_count": 84,
   "id": "continuing-airport",
   "metadata": {},
   "outputs": [],
   "source": [
    "#Multiple label\n",
    "Train_tt_multi_balanced=Train_multi_balanced.copy()\n",
    "Test_tt_multi_balanced=Test_multi_balanced.copy()"
   ]
  },
  {
   "cell_type": "code",
   "execution_count": 85,
   "id": "prescribed-entry",
   "metadata": {},
   "outputs": [],
   "source": [
    "X_train=Train_tt_multi_balanced.drop(['Binary label','Multiple label','ID'], axis = 1) \n",
    "columns_name=list(X_train.columns)\n",
    "scaler = preprocessing.StandardScaler().fit(X_train)\n",
    "X_train_transformed = scaler.transform(X_train)\n",
    "Train_multi_transformed=pd.DataFrame(X_train_transformed, columns=columns_name)\n",
    "Train_multi_transformed['Multiple label'], Train_multi_transformed['Binary label'], Train_multi_transformed['ID'] = [Train_multi_balanced['Multiple label'].values, Train_multi_balanced['Binary label'].values, Train_multi_balanced['ID'].values]\n",
    "\n",
    "X_test=Test_tt_multi_balanced.drop(['Binary label','Multiple label','ID'], axis = 1) \n",
    "scaler = preprocessing.StandardScaler().fit(X_train)\n",
    "X_test_transformed = scaler.transform(X_test)\n",
    "Test_multi_transformed=pd.DataFrame(X_test_transformed, columns=columns_name)\n",
    "Test_multi_transformed['Multiple label'], Test_multi_transformed['Binary label'], Test_multi_transformed['ID'] = [Test_multi_balanced['Multiple label'].values, Test_multi_balanced['Binary label'].values, Test_multi_balanced['ID'].values]"
   ]
  },
  {
   "cell_type": "code",
   "execution_count": 86,
   "id": "grave-manufacturer",
   "metadata": {},
   "outputs": [],
   "source": [
    "Train_multi_transformed.to_csv('Train_multiclass_transformed.csv', header=True, index=False)\n",
    "Test_multi_transformed.to_csv('Test_multiclass_transformed.csv', header=True, index=False)"
   ]
  },
  {
   "cell_type": "code",
   "execution_count": null,
   "id": "hearing-poster",
   "metadata": {},
   "outputs": [],
   "source": []
  },
  {
   "cell_type": "code",
   "execution_count": null,
   "id": "boring-language",
   "metadata": {},
   "outputs": [],
   "source": []
  },
  {
   "cell_type": "code",
   "execution_count": null,
   "id": "hourly-accounting",
   "metadata": {},
   "outputs": [],
   "source": []
  },
  {
   "cell_type": "code",
   "execution_count": 87,
   "id": "involved-package",
   "metadata": {},
   "outputs": [
    {
     "name": "stdout",
     "output_type": "stream",
     "text": [
      "The dimensions of the matrix with binary labels is: (1200, 16)\n",
      "The dimensions of the TRAIN matrix with binary labels is: (931, 16)\n",
      "The dimensions of the TEST matrix with binary labels is: (269, 16)\n"
     ]
    }
   ],
   "source": [
    "#Binary label\n",
    "#visualization\n",
    "#Training and testing subsets\n",
    "print('The dimensions of the matrix with binary labels is:',df_bin_balanced.shape)\n",
    "print('The dimensions of the TRAIN matrix with binary labels is:',Train_bin_balanced.shape)\n",
    "print('The dimensions of the TEST matrix with binary labels is:',Test_bin_balanced.shape)"
   ]
  },
  {
   "cell_type": "code",
   "execution_count": 88,
   "id": "proprietary-profile",
   "metadata": {},
   "outputs": [
    {
     "name": "stdout",
     "output_type": "stream",
     "text": [
      "\u001b[1;30mTRAIN\u001b[0m\n",
      "Number of different values for binary labels in TRAIN: 2 \n",
      "\n",
      "Number of times each binary label value is taken in TRAIN:\n",
      "1.0    466\n",
      "0.0    465\n",
      "Name: Binary label, dtype: int64 \n",
      "\n"
     ]
    },
    {
     "data": {
      "image/png": "[encoded data removed]",
      "text/plain": [
       "<Figure size 360x288 with 1 Axes>"
      ]
     },
     "metadata": {
      "needs_background": "light"
     },
     "output_type": "display_data"
    },
    {
     "name": "stdout",
     "output_type": "stream",
     "text": [
      "\u001b[1;30mTEST\u001b[0m\n",
      "Number of different values for binary labels in TEST: 2 \n",
      "\n",
      "Number of times each binary label value is taken in TEST:\n",
      "0.0    135\n",
      "1.0    134\n",
      "Name: Binary label, dtype: int64 \n",
      "\n"
     ]
    },
    {
     "data": {
      "image/png": "[encoded data removed]",
      "text/plain": [
       "<Figure size 360x288 with 1 Axes>"
      ]
     },
     "metadata": {
      "needs_background": "light"
     },
     "output_type": "display_data"
    }
   ],
   "source": [
    "print('\\x1b[1;30m'+'TRAIN'+'\\x1b[0m')\n",
    "print('Number of different values for binary labels in TRAIN:',Train_bin_balanced['Binary label'].nunique(),'\\n')\n",
    "print('Number of times each binary label value is taken in TRAIN:')\n",
    "print(Train_bin_balanced['Binary label'].value_counts(),'\\n')\n",
    "plt.figure(figsize=(5, 4))\n",
    "plt.title('Distribution of binary labels in TRAIN')\n",
    "plt.xlabel(\"Sleep label\")\n",
    "plt.ylabel(\"Number\")\n",
    "plt.xticks([0,1])\n",
    "plt.hist(Train_bin_balanced['Binary label'])\n",
    "plt.savefig('Image/bl_train.png')\n",
    "plt.show()\n",
    "\n",
    "print('\\x1b[1;30m'+'TEST'+'\\x1b[0m')\n",
    "print('Number of different values for binary labels in TEST:',Test_bin_balanced['Binary label'].nunique(),'\\n')\n",
    "print('Number of times each binary label value is taken in TEST:')\n",
    "print(Test_bin_balanced['Binary label'].value_counts(),'\\n')\n",
    "plt.figure(figsize=(5, 4))\n",
    "plt.title('Distribution of binary labels in TEST')\n",
    "plt.xlabel(\"Sleep label\")\n",
    "plt.ylabel(\"Number\")\n",
    "plt.xticks([0,1])\n",
    "plt.hist(Test_bin_balanced['Binary label'])\n",
    "plt.savefig('Image/bl_test.png')\n",
    "plt.show()"
   ]
  },
  {
   "cell_type": "code",
   "execution_count": 89,
   "id": "touched-journey",
   "metadata": {},
   "outputs": [
    {
     "name": "stdout",
     "output_type": "stream",
     "text": [
      "The dimensions of the unnormalized TRAIN matrix is: (931, 16)\n",
      "The dimensions of the unnormalized TEST matrix is: (269, 16)\n",
      "\n",
      "\n",
      "The dimensions of the TRAIN matrix with normalized binary labels is: (931, 16)\n",
      "The dimensions of the TEST matrix with normalized binary labels is: (269, 16)\n"
     ]
    }
   ],
   "source": [
    "#normalization\n",
    "print('The dimensions of the unnormalized TRAIN matrix is:',Train_tt_bin_balanced.shape)\n",
    "print('The dimensions of the unnormalized TEST matrix is:',Test_tt_bin_balanced.shape)\n",
    "print('\\n')\n",
    "print('The dimensions of the TRAIN matrix with normalized binary labels is:',Train_bin_transformed.shape)\n",
    "print('The dimensions of the TEST matrix with normalized binary labels is:',Test_bin_transformed.shape)"
   ]
  },
  {
   "cell_type": "code",
   "execution_count": 90,
   "id": "national-portsmouth",
   "metadata": {},
   "outputs": [
    {
     "name": "stdout",
     "output_type": "stream",
     "text": [
      "\u001b[1;30mTRAIN\u001b[0m\n",
      "Number of different values for binary labels in TRAIN: 2 \n",
      "\n",
      "Number of times each binary label value is taken in TRAIN:\n",
      "1.0    466\n",
      "0.0    465\n",
      "Name: Binary label, dtype: int64 \n",
      "\n"
     ]
    },
    {
     "data": {
      "image/png": "[encoded data removed]",
      "text/plain": [
       "<Figure size 216x216 with 1 Axes>"
      ]
     },
     "metadata": {
      "needs_background": "light"
     },
     "output_type": "display_data"
    },
    {
     "name": "stdout",
     "output_type": "stream",
     "text": [
      "\u001b[1;30mTEST\u001b[0m\n",
      "Number of different values for binary labels in TEST: 2 \n",
      "\n",
      "Number of times each binary label value is taken in TEST:\n",
      "0.0    135\n",
      "1.0    134\n",
      "Name: Binary label, dtype: int64 \n",
      "\n"
     ]
    },
    {
     "data": {
      "image/png": "[encoded data removed]",
      "text/plain": [
       "<Figure size 216x216 with 1 Axes>"
      ]
     },
     "metadata": {
      "needs_background": "light"
     },
     "output_type": "display_data"
    }
   ],
   "source": [
    "print('\\x1b[1;30m'+'TRAIN'+'\\x1b[0m')\n",
    "print('Number of different values for binary labels in TRAIN:',Train_bin_balanced['Binary label'].nunique(),'\\n')\n",
    "print('Number of times each binary label value is taken in TRAIN:')\n",
    "print(Train_bin_balanced['Binary label'].value_counts(),'\\n')\n",
    "plt.figure(figsize=(3, 3))\n",
    "plt.title('Normalized distribution of binary labels in TRAIN')\n",
    "plt.xlabel(\"Sleep label\")\n",
    "plt.ylabel(\"Number\")\n",
    "plt.xticks([0,1])\n",
    "plt.hist(Train_bin_balanced['Binary label'])\n",
    "plt.show()\n",
    "\n",
    "print('\\x1b[1;30m'+'TEST'+'\\x1b[0m')\n",
    "print('Number of different values for binary labels in TEST:',Test_bin_balanced['Binary label'].nunique(),'\\n')\n",
    "print('Number of times each binary label value is taken in TEST:')\n",
    "print(Test_bin_balanced['Binary label'].value_counts(),'\\n')\n",
    "plt.figure(figsize=(3, 3))\n",
    "plt.title('Normalized distribution of binary labels in TEST')\n",
    "plt.xlabel(\"Sleep label\")\n",
    "plt.ylabel(\"Number\")\n",
    "plt.xticks([0,1])\n",
    "plt.hist(Test_bin_balanced['Binary label'])\n",
    "plt.show()"
   ]
  },
  {
   "cell_type": "code",
   "execution_count": null,
   "id": "starting-finish",
   "metadata": {},
   "outputs": [],
   "source": []
  },
  {
   "cell_type": "code",
   "execution_count": 91,
   "id": "republican-mount",
   "metadata": {},
   "outputs": [
    {
     "name": "stdout",
     "output_type": "stream",
     "text": [
      "The dimensions of the matrix with multiple labels is: (1000, 16)\n",
      "The dimensions of the TRAIN matrix with multiple labels is: (782, 16)\n",
      "The dimensions of the Test matrix with multiclass labels is: (218, 16)\n"
     ]
    }
   ],
   "source": [
    "#Multiple label\n",
    "print('The dimensions of the matrix with multiple labels is:',df_multi_balanced.shape)\n",
    "print('The dimensions of the TRAIN matrix with multiple labels is:',Train_multi_balanced.shape)\n",
    "print('The dimensions of the Test matrix with multiclass labels is:',Test_multi_balanced.shape)"
   ]
  },
  {
   "cell_type": "code",
   "execution_count": 92,
   "id": "tender-berkeley",
   "metadata": {},
   "outputs": [
    {
     "name": "stdout",
     "output_type": "stream",
     "text": [
      "\u001b[1;30mTRAIN\u001b[0m\n",
      "Number of different values for multiple labels in TRAIN: 5 \n",
      "\n",
      "Number of times each multple labels value is taken in TRAIN:\n",
      "3.0    167\n",
      "0.0    165\n",
      "1.0    154\n",
      "5.0    150\n",
      "2.0    146\n",
      "Name: Multiple label, dtype: int64 \n",
      "\n"
     ]
    },
    {
     "data": {
      "image/png": "[encoded data removed]",
      "text/plain": [
       "<Figure size 360x288 with 1 Axes>"
      ]
     },
     "metadata": {
      "needs_background": "light"
     },
     "output_type": "display_data"
    },
    {
     "name": "stdout",
     "output_type": "stream",
     "text": [
      "\u001b[1;30mTEST\u001b[0m\n",
      "Number of different values for multiple labels in TEST: 5 \n",
      "\n",
      "Number of times each multple labels value is taken in TEST:\n",
      "2.0    54\n",
      "5.0    50\n",
      "1.0    46\n",
      "0.0    35\n",
      "3.0    33\n",
      "Name: Multiple label, dtype: int64 \n",
      "\n"
     ]
    },
    {
     "data": {
      "image/png": "[encoded data removed]",
      "text/plain": [
       "<Figure size 360x288 with 1 Axes>"
      ]
     },
     "metadata": {
      "needs_background": "light"
     },
     "output_type": "display_data"
    }
   ],
   "source": [
    "print('\\x1b[1;30m'+'TRAIN'+'\\x1b[0m')\n",
    "print('Number of different values for multiple labels in TRAIN:',Train_multi_balanced['Multiple label'].nunique(),'\\n')\n",
    "print('Number of times each multple labels value is taken in TRAIN:')\n",
    "print(Train_multi_balanced['Multiple label'].value_counts(),'\\n')\n",
    "plt.figure(figsize=(5, 4))\n",
    "plt.title('Distribution of multiple labels in TRAIN')\n",
    "plt.xlabel(\"Sleep label\")\n",
    "plt.ylabel(\"Number\")\n",
    "plt.xticks([0,1,2,3,5])\n",
    "plt.hist(Train_multi_balanced['Multiple label'])\n",
    "plt.savefig('Image/ml_train.png')\n",
    "plt.show()\n",
    "\n",
    "print('\\x1b[1;30m'+'TEST'+'\\x1b[0m')\n",
    "print('Number of different values for multiple labels in TEST:',Test_multi_balanced['Multiple label'].nunique(),'\\n')\n",
    "print('Number of times each multple labels value is taken in TEST:')\n",
    "print(Test_multi_balanced['Multiple label'].value_counts(),'\\n')\n",
    "plt.figure(figsize=(5, 4))\n",
    "plt.title('Distribution of multiple labels in Test')\n",
    "plt.xlabel(\"Sleep label\")\n",
    "plt.ylabel(\"Number\")\n",
    "plt.xticks([0,1,2,3,5])\n",
    "plt.hist(Test_multi_balanced['Multiple label'])\n",
    "plt.savefig('Image/ml_test.png')\n",
    "plt.show()"
   ]
  },
  {
   "cell_type": "code",
   "execution_count": 93,
   "id": "together-warrant",
   "metadata": {},
   "outputs": [
    {
     "name": "stdout",
     "output_type": "stream",
     "text": [
      "The dimensions of the unnormalized TRAIN matrix is: (782, 16)\n",
      "The dimensions of the unnormalized TEST matrix is: (218, 16)\n",
      "\n",
      "\n",
      "The dimensions of the TRAIN matrix with normalized multiple label is: (782, 16)\n",
      "The dimensions of the TEST matrix with normalized multiple label is: (218, 16)\n"
     ]
    }
   ],
   "source": [
    "print('The dimensions of the unnormalized TRAIN matrix is:',Train_tt_multi_balanced.shape)\n",
    "print('The dimensions of the unnormalized TEST matrix is:',Test_tt_multi_balanced.shape)\n",
    "print('\\n')\n",
    "print('The dimensions of the TRAIN matrix with normalized multiple label is:',Train_multi_transformed.shape)\n",
    "print('The dimensions of the TEST matrix with normalized multiple label is:',Test_multi_transformed.shape)"
   ]
  },
  {
   "cell_type": "code",
   "execution_count": 94,
   "id": "supreme-storage",
   "metadata": {},
   "outputs": [
    {
     "name": "stdout",
     "output_type": "stream",
     "text": [
      "\u001b[1;30mTRAIN\u001b[0m\n",
      "Number of different values for multiple labels in TRAIN: 5 \n",
      "\n",
      "Number of times each multple labels value is taken in TRAIN:\n",
      "3.0    167\n",
      "0.0    165\n",
      "1.0    154\n",
      "5.0    150\n",
      "2.0    146\n",
      "Name: Multiple label, dtype: int64 \n",
      "\n"
     ]
    },
    {
     "data": {
      "image/png": "[encoded data removed]",
      "text/plain": [
       "<Figure size 216x216 with 1 Axes>"
      ]
     },
     "metadata": {
      "needs_background": "light"
     },
     "output_type": "display_data"
    },
    {
     "name": "stdout",
     "output_type": "stream",
     "text": [
      "\u001b[1;30mTEST\u001b[0m\n",
      "Number of different values for multiple labels in TEST: 5 \n",
      "\n",
      "Number of times each multple labels value is taken in TEST:\n",
      "2.0    54\n",
      "5.0    50\n",
      "1.0    46\n",
      "0.0    35\n",
      "3.0    33\n",
      "Name: Multiple label, dtype: int64 \n",
      "\n"
     ]
    },
    {
     "data": {
      "image/png": "[encoded data removed]",
      "text/plain": [
       "<Figure size 216x216 with 1 Axes>"
      ]
     },
     "metadata": {
      "needs_background": "light"
     },
     "output_type": "display_data"
    }
   ],
   "source": [
    "print('\\x1b[1;30m'+'TRAIN'+'\\x1b[0m')\n",
    "print('Number of different values for multiple labels in TRAIN:',Train_multi_transformed['Multiple label'].nunique(),'\\n')\n",
    "print('Number of times each multple labels value is taken in TRAIN:')\n",
    "print(Train_multi_transformed['Multiple label'].value_counts(),'\\n')\n",
    "plt.figure(figsize=(3, 3))\n",
    "plt.title('Normalized distribution of multiple labels in TRAIN')\n",
    "plt.xlabel(\"Sleep label\")\n",
    "plt.ylabel(\"Number\")\n",
    "plt.xticks([-1,0,1,2,3,4,5])\n",
    "plt.hist(Train_multi_transformed['Multiple label'])\n",
    "plt.show()\n",
    "\n",
    "print('\\x1b[1;30m'+'TEST'+'\\x1b[0m')\n",
    "print('Number of different values for multiple labels in TEST:',Test_multi_transformed['Multiple label'].nunique(),'\\n')\n",
    "print('Number of times each multple labels value is taken in TEST:')\n",
    "print(Test_multi_transformed['Multiple label'].value_counts(),'\\n')\n",
    "plt.figure(figsize=(3, 3))\n",
    "plt.title('Normalized distribution of multiple labels in TEST')\n",
    "plt.xlabel(\"Sleep label\")\n",
    "plt.ylabel(\"Number\")\n",
    "plt.xticks([-1,0,1,2,3,4,5])\n",
    "plt.hist(Test_multi_transformed['Multiple label'])\n",
    "plt.show()"
   ]
  },
  {
   "cell_type": "code",
   "execution_count": null,
   "id": "dying-minimum",
   "metadata": {},
   "outputs": [],
   "source": []
  },
  {
   "cell_type": "code",
   "execution_count": null,
   "id": "academic-mailing",
   "metadata": {},
   "outputs": [],
   "source": []
  },
  {
   "cell_type": "code",
   "execution_count": null,
   "id": "selective-wound",
   "metadata": {},
   "outputs": [],
   "source": []
  },
  {
   "cell_type": "code",
   "execution_count": null,
   "id": "killing-philadelphia",
   "metadata": {},
   "outputs": [],
   "source": []
  },
  {
   "cell_type": "code",
   "execution_count": null,
   "id": "unusual-uzbekistan",
   "metadata": {},
   "outputs": [],
   "source": []
  },
  {
   "cell_type": "code",
   "execution_count": null,
   "id": "affiliated-designer",
   "metadata": {},
   "outputs": [],
   "source": []
  }
 ],
 "metadata": {
  "kernelspec": {
   "display_name": "Python 3",
   "language": "python",
   "name": "python3"
  },
  "language_info": {
   "codemirror_mode": {
    "name": "ipython",
    "version": 3
   },
   "file_extension": ".py",
   "mimetype": "text/x-python",
   "name": "python",
   "nbconvert_exporter": "python",
   "pygments_lexer": "ipython3",
   "version": "3.9.2"
  }
 },
 "nbformat": 4,
 "nbformat_minor": 5
}
